{
  "nbformat": 4,
  "nbformat_minor": 0,
  "metadata": {
    "colab": {
      "provenance": [],
      "collapsed_sections": []
    },
    "kernelspec": {
      "name": "python3",
      "display_name": "Python 3"
    },
    "language_info": {
      "name": "python"
    }
  },
  "cells": [
    {
      "cell_type": "markdown",
      "source": [
        "28. Draw a scatter plot of the data."
      ],
      "metadata": {
        "id": "Qz09dNcZdW23"
      }
    },
    {
      "cell_type": "code",
      "source": [
        "x = [0,3,2,1,5,5,4,3,0,4]\n",
        "y = [2,8,7,3,13,12,9,9,3,10]"
      ],
      "metadata": {
        "id": "fpLVpafQdd7v"
      },
      "execution_count": 19,
      "outputs": []
    },
    {
      "cell_type": "code",
      "source": [
        "import matplotlib.pyplot as plt\n",
        "plt.scatter(x,y)\n",
        "plt.show()"
      ],
      "metadata": {
        "colab": {
          "base_uri": "https://localhost:8080/",
          "height": 265
        },
        "id": "aM47ipcsd-O_",
        "outputId": "8ea5cfab-3d5f-47de-ca2a-0956beeb526d"
      },
      "execution_count": 20,
      "outputs": [
        {
          "output_type": "display_data",
          "data": {
            "text/plain": [
              "<Figure size 432x288 with 1 Axes>"
            ],
            "image/png": "[encoded data removed]"
          },
          "metadata": {
            "needs_background": "light"
          }
        }
      ]
    },
    {
      "cell_type": "markdown",
      "source": [
        "29. Use regression to find the equation for the line of best fit."
      ],
      "metadata": {
        "id": "v8OX5hjtiYZ2"
      }
    },
    {
      "cell_type": "code",
      "source": [
        "from scipy import stats\n"
      ],
      "metadata": {
        "id": "kpwmUy3tgqNA"
      },
      "execution_count": 21,
      "outputs": []
    },
    {
      "cell_type": "code",
      "source": [
        "slope, intercept, r,p, er = stats.linregress(x,y)"
      ],
      "metadata": {
        "id": "oPV6N5YJg1E3"
      },
      "execution_count": 22,
      "outputs": []
    },
    {
      "cell_type": "code",
      "source": [
        "slope,intercept,r,p,er"
      ],
      "metadata": {
        "colab": {
          "base_uri": "https://localhost:8080/"
        },
        "id": "YVzOFjUSg_o9",
        "outputId": "ba572d4b-dfe7-403f-a845-5102f0ff51bd"
      },
      "execution_count": 23,
      "outputs": [
        {
          "output_type": "execute_result",
          "data": {
            "text/plain": [
              "(1.9875389408099686,\n",
              " 2.233644859813084,\n",
              " 0.9786427204025728,\n",
              " 8.871306602493875e-07,\n",
              " 0.14760570393124217)"
            ]
          },
          "metadata": {},
          "execution_count": 23
        }
      ]
    },
    {
      "cell_type": "code",
      "source": [
        "def fun(x):\n",
        "  return slope * x + intercept"
      ],
      "metadata": {
        "id": "oWxejXjZhGpW"
      },
      "execution_count": 24,
      "outputs": []
    },
    {
      "cell_type": "code",
      "source": [
        "model = list(map(fun,x))"
      ],
      "metadata": {
        "id": "_3wvVkR1hROm"
      },
      "execution_count": 25,
      "outputs": []
    },
    {
      "cell_type": "code",
      "source": [
        "model"
      ],
      "metadata": {
        "colab": {
          "base_uri": "https://localhost:8080/"
        },
        "id": "_HAx1bT9hZye",
        "outputId": "349e8979-f87d-4728-c7b7-3c1d28289774"
      },
      "execution_count": 26,
      "outputs": [
        {
          "output_type": "execute_result",
          "data": {
            "text/plain": [
              "[2.233644859813084,\n",
              " 8.19626168224299,\n",
              " 6.2087227414330215,\n",
              " 4.221183800623052,\n",
              " 12.171339563862926,\n",
              " 12.171339563862926,\n",
              " 10.183800623052958,\n",
              " 8.19626168224299,\n",
              " 2.233644859813084,\n",
              " 10.183800623052958]"
            ]
          },
          "metadata": {},
          "execution_count": 26
        }
      ]
    },
    {
      "cell_type": "code",
      "source": [
        "plt.scatter(x,y)"
      ],
      "metadata": {
        "colab": {
          "base_uri": "https://localhost:8080/",
          "height": 282
        },
        "id": "q84x-E0GhbbN",
        "outputId": "26e4c0d3-bfdd-4a54-9c15-59478f14ff61"
      },
      "execution_count": 27,
      "outputs": [
        {
          "output_type": "execute_result",
          "data": {
            "text/plain": [
              "<matplotlib.collections.PathCollection at 0x7f3854d07490>"
            ]
          },
          "metadata": {},
          "execution_count": 27
        },
        {
          "output_type": "display_data",
          "data": {
            "text/plain": [
              "<Figure size 432x288 with 1 Axes>"
            ],
            "image/png": "[encoded data removed]"
          },
          "metadata": {
            "needs_background": "light"
          }
        }
      ]
    },
    {
      "cell_type": "code",
      "source": [
        "plt.plot(x,model)\n",
        "plt.show()"
      ],
      "metadata": {
        "colab": {
          "base_uri": "https://localhost:8080/",
          "height": 265
        },
        "id": "kfv-ALNgj7Rv",
        "outputId": "03d4808c-2a2b-46c9-b8da-bd767e1a9bc0"
      },
      "execution_count": 28,
      "outputs": [
        {
          "output_type": "display_data",
          "data": {
            "text/plain": [
              "<Figure size 432x288 with 1 Axes>"
            ],
            "image/png": "[encoded data removed]"
          },
          "metadata": {
            "needs_background": "light"
          }
        }
      ]
    },
    {
      "cell_type": "markdown",
      "source": [
        "30. Draw the line of best fit on the scatter plot."
      ],
      "metadata": {
        "id": "-ZkktvBJkDbI"
      }
    },
    {
      "cell_type": "code",
      "source": [
        "plt.scatter(x,y)\n",
        "plt.plot(x,model)\n",
        "plt.show()"
      ],
      "metadata": {
        "colab": {
          "base_uri": "https://localhost:8080/",
          "height": 265
        },
        "id": "WtdgIir8hxFG",
        "outputId": "2c5a5035-b905-4056-89c4-46044bef44e1"
      },
      "execution_count": 29,
      "outputs": [
        {
          "output_type": "display_data",
          "data": {
            "text/plain": [
              "<Figure size 432x288 with 1 Axes>"
            ],
            "image/png": "[encoded data removed]"
          },
          "metadata": {
            "needs_background": "light"
          }
        }
      ]
    },
    {
      "cell_type": "markdown",
      "source": [
        "31. What is the slope of the line of best fit? What does it represent?"
      ],
      "metadata": {
        "id": "U4i4QYKDkJR2"
      }
    },
    {
      "cell_type": "code",
      "source": [
        "slope\n",
        "#The slope indicates the steepness of a line"
      ],
      "metadata": {
        "colab": {
          "base_uri": "https://localhost:8080/"
        },
        "id": "RTVoJ8MJkQou",
        "outputId": "4f96216c-532c-4097-b00d-5bfe508f1ff9"
      },
      "execution_count": 30,
      "outputs": [
        {
          "output_type": "execute_result",
          "data": {
            "text/plain": [
              "1.9875389408099686"
            ]
          },
          "metadata": {},
          "execution_count": 30
        }
      ]
    },
    {
      "cell_type": "markdown",
      "source": [
        "32. What is the y-intercept of the line of best fit? What does it represent?"
      ],
      "metadata": {
        "id": "I4znR9s4kW8e"
      }
    },
    {
      "cell_type": "code",
      "source": [
        "intercept\n",
        "#the intercept indicates the location where it intersects an axis. "
      ],
      "metadata": {
        "colab": {
          "base_uri": "https://localhost:8080/"
        },
        "id": "2cwj20YAkUIO",
        "outputId": "c5bdeb70-440c-47e6-8e9c-d8449c8ac8ae"
      },
      "execution_count": 17,
      "outputs": [
        {
          "output_type": "execute_result",
          "data": {
            "text/plain": [
              "2.233644859813084"
            ]
          },
          "metadata": {},
          "execution_count": 17
        }
      ]
    },
    {
      "cell_type": "markdown",
      "source": [
        "33. What does an r value of zero mean?"
      ],
      "metadata": {
        "id": "B2ktGdZalQ7G"
      }
    },
    {
      "cell_type": "code",
      "source": [
        "#R is the Correlation. When R is Zero it means it has No Correlation. And when R isn 1 it means it has Positive Correlation and -1 indicates Negative Correlation."
      ],
      "metadata": {
        "id": "xcrV5lilmbl2"
      },
      "execution_count": null,
      "outputs": []
    },
    {
      "cell_type": "markdown",
      "source": [
        "34. When n = 2 and r = 1, are the data significant? Explain."
      ],
      "metadata": {
        "id": "Gujl9fiwl25F"
      }
    },
    {
      "cell_type": "code",
      "source": [
        "#Since There is Very Less Data as N = 2. The Data is not Significant."
      ],
      "metadata": {
        "id": "GvtfMvZilN72"
      },
      "execution_count": null,
      "outputs": []
    },
    {
      "cell_type": "markdown",
      "source": [
        "35. When n = 100 and r = -0.89, is there a significant correlation? Explain."
      ],
      "metadata": {
        "id": "8xmtPkLZmn19"
      }
    },
    {
      "cell_type": "code",
      "source": [
        "#There is Enough Data in this Case as N = 100. And R (Correlation) is -0.89. The Data have a Negative Correlation as it has a value of R less than 0."
      ],
      "metadata": {
        "id": "cDHhxMYXmrRV"
      },
      "execution_count": null,
      "outputs": []
    },
    {
      "cell_type": "code",
      "source": [
        "a = [x for x in range(1,100)]\n",
        "b = [x for x in range(1,100)]\n",
        "b = sorted(b, reverse=True)"
      ],
      "metadata": {
        "id": "527Mt4I8qgLe"
      },
      "execution_count": 59,
      "outputs": []
    },
    {
      "cell_type": "code",
      "source": [
        "def fun(x):\n",
        "  return slope * x + intercept\n",
        "\n",
        "model = list(map(fun,a))\n",
        "\n",
        "plt.plot(a,model)\n",
        "plt.show()"
      ],
      "metadata": {
        "colab": {
          "base_uri": "https://localhost:8080/",
          "height": 265
        },
        "id": "YC-VvIYTrCdN",
        "outputId": "f748b7b8-6a09-48ba-c4ba-c3ee28d8757d"
      },
      "execution_count": 62,
      "outputs": [
        {
          "output_type": "display_data",
          "data": {
            "text/plain": [
              "<Figure size 432x288 with 1 Axes>"
            ],
            "image/png": "[encoded data removed]"
          },
          "metadata": {
            "needs_background": "light"
          }
        }
      ]
    },
    {
      "cell_type": "code",
      "source": [
        "slope, intercept, r,p, er = stats.linregress(a,b)\n",
        "def fun(x):\n",
        "  return slope * x + intercept\n",
        "\n",
        "model = list(map(fun,a))\n",
        "\n",
        "plt.scatter(a,b)\n",
        "plt.plot(b,model)\n",
        "plt.show()\n",
        "r"
      ],
      "metadata": {
        "colab": {
          "base_uri": "https://localhost:8080/",
          "height": 282
        },
        "id": "-pPNyhevr0kl",
        "outputId": "bee66cec-f788-4276-b070-855f4588ceaf"
      },
      "execution_count": 61,
      "outputs": [
        {
          "output_type": "display_data",
          "data": {
            "text/plain": [
              "<Figure size 432x288 with 1 Axes>"
            ],
            "image/png": "[encoded data removed]"
          },
          "metadata": {
            "needs_background": "light"
          }
        },
        {
          "output_type": "execute_result",
          "data": {
            "text/plain": [
              "-1.0"
            ]
          },
          "metadata": {},
          "execution_count": 61
        }
      ]
    },
    {
      "cell_type": "markdown",
      "source": [
        "Polynomial Regression\n"
      ],
      "metadata": {
        "id": "sFUXNX5v47ym"
      }
    },
    {
      "cell_type": "code",
      "source": [
        "import numpy\n",
        "import matplotlib.pyplot as plt\n",
        "\n",
        "x = [1,2,3,5,6,7,8,9,10,12,13,14,15,16,18,19,21,22]\n",
        "y = [100,90,80,60,60,55,60,65,70,70,75,76,78,79,90,99,99,100]\n",
        "\n",
        "mymodel = numpy.poly1d(numpy.polyfit(x, y, 3))\n",
        "\n",
        "myline = numpy.linspace(1, 22, 100)\n",
        "\n",
        "plt.scatter(x, y)\n",
        "plt.plot(myline, mymodel(myline))\n",
        "plt.show()"
      ],
      "metadata": {
        "colab": {
          "base_uri": "https://localhost:8080/",
          "height": 265
        },
        "id": "VQds8Z7v5F_9",
        "outputId": "a1394ea0-2230-4129-9fb6-984ce2e58942"
      },
      "execution_count": 65,
      "outputs": [
        {
          "output_type": "display_data",
          "data": {
            "text/plain": [
              "<Figure size 432x288 with 1 Axes>"
            ],
            "image/png": "[encoded data removed]"
          },
          "metadata": {
            "needs_background": "light"
          }
        }
      ]
    },
    {
      "cell_type": "markdown",
      "source": [
        "Multiple Regression\n"
      ],
      "metadata": {
        "id": "DaFAdCG27FM8"
      }
    },
    {
      "cell_type": "code",
      "source": [
        "import pandas\n",
        "df = pandas.read_csv(\"data.csv\")"
      ],
      "metadata": {
        "id": "sNGGDiJw8b68"
      },
      "execution_count": 74,
      "outputs": []
    },
    {
      "cell_type": "code",
      "source": [
        "X = df[['Weight', 'Volume']]\n",
        "y = df['CO2']"
      ],
      "metadata": {
        "id": "p1bZhiM78dF0"
      },
      "execution_count": 68,
      "outputs": []
    },
    {
      "cell_type": "code",
      "source": [
        "from sklearn import linear_model"
      ],
      "metadata": {
        "id": "ggETn8lC8ga0"
      },
      "execution_count": 69,
      "outputs": []
    },
    {
      "cell_type": "code",
      "source": [
        "regr = linear_model.LinearRegression()\n",
        "regr.fit(X, y)"
      ],
      "metadata": {
        "colab": {
          "base_uri": "https://localhost:8080/"
        },
        "id": "HE0fBuXG8mK8",
        "outputId": "547f45d5-6427-4402-d505-85a9e73228ff"
      },
      "execution_count": 70,
      "outputs": [
        {
          "output_type": "execute_result",
          "data": {
            "text/plain": [
              "LinearRegression()"
            ]
          },
          "metadata": {},
          "execution_count": 70
        }
      ]
    },
    {
      "cell_type": "code",
      "source": [
        "predictedCO2 = regr.predict([[2300, 1300]])"
      ],
      "metadata": {
        "colab": {
          "base_uri": "https://localhost:8080/"
        },
        "id": "KgSpbaiT8qpb",
        "outputId": "5b200f47-d6ee-4608-a976-b22b0df6d077"
      },
      "execution_count": 71,
      "outputs": [
        {
          "output_type": "stream",
          "name": "stderr",
          "text": [
            "/usr/local/lib/python3.7/dist-packages/sklearn/base.py:451: UserWarning: X does not have valid feature names, but LinearRegression was fitted with feature names\n",
            "  \"X does not have valid feature names, but\"\n"
          ]
        }
      ]
    },
    {
      "cell_type": "code",
      "source": [
        "predictedCO2"
      ],
      "metadata": {
        "colab": {
          "base_uri": "https://localhost:8080/"
        },
        "id": "dTJC_FwT8t88",
        "outputId": "82d0e32f-45a3-4bbd-9abe-fe66981c29f5"
      },
      "execution_count": 72,
      "outputs": [
        {
          "output_type": "execute_result",
          "data": {
            "text/plain": [
              "array([107.2087328])"
            ]
          },
          "metadata": {},
          "execution_count": 72
        }
      ]
    },
    {
      "cell_type": "code",
      "source": [],
      "metadata": {
        "id": "ecVgfq7j84NT"
      },
      "execution_count": null,
      "outputs": []
    }
  ]
}